{
 "cells": [
  {
   "cell_type": "markdown",
   "metadata": {},
   "source": [
    "# Libraries"
   ]
  },
  {
   "cell_type": "code",
   "execution_count": 1,
   "metadata": {},
   "outputs": [],
   "source": [
    "# import libraries\n",
    "# ================\n",
    "\n",
    "# for date and time opeations\n",
    "from datetime import datetime\n",
    "# for file and folder operations\n",
    "import os\n",
    "# for regular expression opeations\n",
    "import re\n",
    "# for listing files in a folder\n",
    "import glob\n",
    "# for getting web contents\n",
    "import requests \n",
    "# storing and analysing data\n",
    "import pandas as pd\n",
    "# for scraping web contents\n",
    "from bs4 import BeautifulSoup\n",
    "# to save and load python data\n",
    "import pickle\n",
    "# numerical processing\n",
    "import numpy as np"
   ]
  },
  {
   "cell_type": "markdown",
   "metadata": {},
   "source": [
    "# Data"
   ]
  },
  {
   "cell_type": "code",
   "execution_count": 2,
   "metadata": {},
   "outputs": [
    {
     "data": {
      "text/plain": [
       "4983"
      ]
     },
     "execution_count": 2,
     "metadata": {},
     "output_type": "execute_result"
    }
   ],
   "source": [
    "# load pickled data\n",
    "# =================\n",
    "\n",
    "# load data\n",
    "cl_1 = pickle.load(open('crashes_list_1', 'rb'))\n",
    "cl_2 = pickle.load(open('crashes_list_2', 'rb'))\n",
    "cl_3 = pickle.load(open('crashes_list_3', 'rb'))\n",
    "cl_4 = pickle.load(open('crashes_list_4', 'rb'))\n",
    "cl_5 = pickle.load(open('crashes_list_5', 'rb'))\n",
    "\n",
    "# combine lists\n",
    "cl = cl_1 + cl_2 + cl_3 + cl_4 + cl_5\n",
    "\n",
    "# total no. of items in the list\n",
    "len(cl)"
   ]
  },
  {
   "cell_type": "markdown",
   "metadata": {},
   "source": [
    "# Cleaning"
   ]
  },
  {
   "cell_type": "code",
   "execution_count": 3,
   "metadata": {},
   "outputs": [
    {
     "data": {
      "text/html": [
       "<div>\n",
       "<style scoped>\n",
       "    .dataframe tbody tr th:only-of-type {\n",
       "        vertical-align: middle;\n",
       "    }\n",
       "\n",
       "    .dataframe tbody tr th {\n",
       "        vertical-align: top;\n",
       "    }\n",
       "\n",
       "    .dataframe thead th {\n",
       "        text-align: right;\n",
       "    }\n",
       "</style>\n",
       "<table border=\"1\" class=\"dataframe\">\n",
       "  <thead>\n",
       "    <tr style=\"text-align: right;\">\n",
       "      <th></th>\n",
       "      <th>Date</th>\n",
       "      <th>Time</th>\n",
       "      <th>Location</th>\n",
       "      <th>Operator</th>\n",
       "      <th>Flight #</th>\n",
       "      <th>Route</th>\n",
       "      <th>AC  Type</th>\n",
       "      <th>Registration</th>\n",
       "      <th>cn / ln</th>\n",
       "      <th>Aboard</th>\n",
       "      <th>Fatalities</th>\n",
       "      <th>Ground</th>\n",
       "      <th>Summary</th>\n",
       "    </tr>\n",
       "  </thead>\n",
       "  <tbody>\n",
       "    <tr>\n",
       "      <th>0</th>\n",
       "      <td>September 17, 1908</td>\n",
       "      <td>1718</td>\n",
       "      <td>Fort Myer, Virginia</td>\n",
       "      <td>Military - U.S. Army</td>\n",
       "      <td>NaN</td>\n",
       "      <td>Demonstration</td>\n",
       "      <td>Wright Flyer III</td>\n",
       "      <td>NaN</td>\n",
       "      <td>1</td>\n",
       "      <td>2 (passengers:1 crew:1)</td>\n",
       "      <td>1 (passengers:1 crew:0)</td>\n",
       "      <td>0</td>\n",
       "      <td>During a demonstration flight, a U.S. Army fly...</td>\n",
       "    </tr>\n",
       "    <tr>\n",
       "      <th>1</th>\n",
       "      <td>September 07, 1909</td>\n",
       "      <td>NaN</td>\n",
       "      <td>Juvisy-sur-Orge, France</td>\n",
       "      <td>NaN</td>\n",
       "      <td>NaN</td>\n",
       "      <td>Air show</td>\n",
       "      <td>Wright Byplane</td>\n",
       "      <td>SC1</td>\n",
       "      <td>NaN</td>\n",
       "      <td>1 (passengers:0 crew:1)</td>\n",
       "      <td>1 (passengers:0 crew:0)</td>\n",
       "      <td>0</td>\n",
       "      <td>Eugene Lefebvre was the first pilot to ever be...</td>\n",
       "    </tr>\n",
       "    <tr>\n",
       "      <th>2</th>\n",
       "      <td>July 12, 1912</td>\n",
       "      <td>0630</td>\n",
       "      <td>Atlantic City, New Jersey</td>\n",
       "      <td>Military - U.S. Navy</td>\n",
       "      <td>NaN</td>\n",
       "      <td>Test flight</td>\n",
       "      <td>Dirigible</td>\n",
       "      <td>NaN</td>\n",
       "      <td>NaN</td>\n",
       "      <td>5 (passengers:0 crew:5)</td>\n",
       "      <td>5 (passengers:0 crew:5)</td>\n",
       "      <td>0</td>\n",
       "      <td>First U.S. dirigible Akron exploded just offsh...</td>\n",
       "    </tr>\n",
       "    <tr>\n",
       "      <th>3</th>\n",
       "      <td>August 06, 1913</td>\n",
       "      <td>NaN</td>\n",
       "      <td>Victoria, British Columbia, Canada</td>\n",
       "      <td>Private</td>\n",
       "      <td>NaN</td>\n",
       "      <td>NaN</td>\n",
       "      <td>Curtiss seaplane</td>\n",
       "      <td>NaN</td>\n",
       "      <td>NaN</td>\n",
       "      <td>1 (passengers:0 crew:1)</td>\n",
       "      <td>1 (passengers:0 crew:1)</td>\n",
       "      <td>0</td>\n",
       "      <td>The first fatal airplane accident in Canada oc...</td>\n",
       "    </tr>\n",
       "    <tr>\n",
       "      <th>4</th>\n",
       "      <td>September 09, 1913</td>\n",
       "      <td>1830</td>\n",
       "      <td>Over the North Sea</td>\n",
       "      <td>Military - German Navy</td>\n",
       "      <td>NaN</td>\n",
       "      <td>NaN</td>\n",
       "      <td>Zeppelin L-1 (airship)</td>\n",
       "      <td>NaN</td>\n",
       "      <td>NaN</td>\n",
       "      <td>20 (passengers:? crew:?)</td>\n",
       "      <td>14 (passengers:? crew:?)</td>\n",
       "      <td>0</td>\n",
       "      <td>The airship flew into a thunderstorm and encou...</td>\n",
       "    </tr>\n",
       "  </tbody>\n",
       "</table>\n",
       "</div>"
      ],
      "text/plain": [
       "                 Date  Time                            Location  \\\n",
       "0  September 17, 1908  1718                 Fort Myer, Virginia   \n",
       "1  September 07, 1909   NaN             Juvisy-sur-Orge, France   \n",
       "2       July 12, 1912  0630           Atlantic City, New Jersey   \n",
       "3     August 06, 1913   NaN  Victoria, British Columbia, Canada   \n",
       "4  September 09, 1913  1830                  Over the North Sea   \n",
       "\n",
       "                 Operator Flight #          Route                AC  Type  \\\n",
       "0    Military - U.S. Army      NaN  Demonstration        Wright Flyer III   \n",
       "1                     NaN      NaN       Air show          Wright Byplane   \n",
       "2    Military - U.S. Navy      NaN    Test flight               Dirigible   \n",
       "3                 Private      NaN            NaN        Curtiss seaplane   \n",
       "4  Military - German Navy      NaN            NaN  Zeppelin L-1 (airship)   \n",
       "\n",
       "  Registration cn / ln                    Aboard                Fatalities  \\\n",
       "0          NaN       1   2 (passengers:1 crew:1)   1 (passengers:1 crew:0)   \n",
       "1          SC1     NaN   1 (passengers:0 crew:1)   1 (passengers:0 crew:0)   \n",
       "2          NaN     NaN   5 (passengers:0 crew:5)   5 (passengers:0 crew:5)   \n",
       "3          NaN     NaN   1 (passengers:0 crew:1)   1 (passengers:0 crew:1)   \n",
       "4          NaN     NaN  20 (passengers:? crew:?)  14 (passengers:? crew:?)   \n",
       "\n",
       "  Ground                                            Summary  \n",
       "0      0  During a demonstration flight, a U.S. Army fly...  \n",
       "1      0  Eugene Lefebvre was the first pilot to ever be...  \n",
       "2      0  First U.S. dirigible Akron exploded just offsh...  \n",
       "3      0  The first fatal airplane accident in Canada oc...  \n",
       "4      0  The airship flew into a thunderstorm and encou...  "
      ]
     },
     "execution_count": 3,
     "metadata": {},
     "output_type": "execute_result"
    }
   ],
   "source": [
    "# dataframes\n",
    "# ==========\n",
    "\n",
    "# concatenate dataframes\n",
    "c_df = pd.concat(cl)\n",
    "# drop unwanted rows\n",
    "c_df = c_df.drop('-', axis=1)\n",
    "# reset at index\n",
    "c_df = c_df.reset_index(drop=True)\n",
    "# replace '?' with np.nan\n",
    "c_df = c_df.replace('?', np.nan)\n",
    "# rename columns\n",
    "c_df.columns = [col_name[:-1] for col_name in c_df.columns]\n",
    "c_df.head()"
   ]
  },
  {
   "cell_type": "markdown",
   "metadata": {},
   "source": [
    "### Extract aboard and fatalities count"
   ]
  },
  {
   "cell_type": "code",
   "execution_count": 4,
   "metadata": {},
   "outputs": [],
   "source": [
    "# extract counts\n",
    "# ==============\n",
    "\n",
    "# extract values\n",
    "c_df['Total Aboard'] = c_df['Aboard'].str.extract('(\\d*)')\n",
    "c_df['Passengers Aboard'] = c_df['Aboard'].str.extract('passengers:(\\d*)')\n",
    "c_df['Crew Aboard'] = c_df['Aboard'].str.extract('crew:(\\d*)')\n",
    "\n",
    "c_df['Total Fatalities'] = c_df['Fatalities'].str.extract('(\\d*)')\n",
    "c_df['Passengers Fatalities'] = c_df['Fatalities'].str.extract('passengers:(\\d*)')\n",
    "c_df['Crew Fatalities'] = c_df['Fatalities'].str.extract('crew:(\\d*)')\n",
    "\n",
    "# drop columns\n",
    "c_df = c_df.drop(['Aboard', 'Fatalities'], axis=1)\n",
    "# replace empty strins with np.nan\n",
    "c_df = c_df.replace('', np.nan)"
   ]
  },
  {
   "cell_type": "markdown",
   "metadata": {},
   "source": [
    "### Fix time format"
   ]
  },
  {
   "cell_type": "code",
   "execution_count": 5,
   "metadata": {},
   "outputs": [],
   "source": [
    "# extract time from Time column\n",
    "c_df['Time'] = c_df['Time'].str.extract('([0-9:]*)')"
   ]
  },
  {
   "cell_type": "code",
   "execution_count": 6,
   "metadata": {},
   "outputs": [
    {
     "data": {
      "text/plain": [
       "4.0    3246\n",
       "5.0     194\n",
       "0.0      40\n",
       "3.0       3\n",
       "2.0       1\n",
       "Name: Time, dtype: int64"
      ]
     },
     "execution_count": 6,
     "metadata": {},
     "output_type": "execute_result"
    }
   ],
   "source": [
    "c_df['Time'].str.len().value_counts()"
   ]
  },
  {
   "cell_type": "code",
   "execution_count": 7,
   "metadata": {},
   "outputs": [],
   "source": [
    "# fix time format\n",
    "# ===============\n",
    "\n",
    "# time with 0 characters\n",
    "# no need to fix\n",
    "\n",
    "# time with 1 characters\n",
    "# none found\n",
    "\n",
    "# time with 2 characters\n",
    "# change add 00 minutes to hh ( hh -> hh:00)\n",
    "c_df.loc[c_df['Time'].str.len()==2, 'Time'] = c_df.loc[c_df['Time'].str.len()==2, 'Time'] + ':00'\n",
    "\n",
    "# time with 3 characters \n",
    "# change hmm to h:mm\n",
    "c_df.loc[c_df['Time'].str.len()==3, 'Time'] = c_df.loc[c_df['Time'].str.len()==3, 'Time'].str[:1] + ':' + c_df.loc[c_df['Time'].str.len()==3, 'Time'].str[1:]\n",
    "\n",
    "# time with 4 characters and has : character\n",
    "# no need to change\n",
    "\n",
    "# time with 4 characters and dont have : character\n",
    "# change hhmm to hh:mm\n",
    "c_df.loc[np.logical_and(c_df['Time'].str.len()==4, c_df['Time'].str.contains(':')==False), 'Time'] = c_df.loc[np.logical_and(c_df['Time'].str.len()==4, c_df['Time'].str.contains(':')==False), 'Time'].str[:2] + ':' + c_df.loc[np.logical_and(c_df['Time'].str.len()==4, c_df['Time'].str.contains(':')==False), 'Time'].str[2:]\n",
    "\n",
    "# time with 5 characters and has : character\n",
    "# already in proper format\n",
    "\n",
    "# time with 5 characters and dont have : character\n",
    "# none found"
   ]
  },
  {
   "cell_type": "code",
   "execution_count": 8,
   "metadata": {},
   "outputs": [
    {
     "data": {
      "text/plain": [
       "5.0    3436\n",
       "0.0      40\n",
       "4.0       8\n",
       "Name: Time, dtype: int64"
      ]
     },
     "execution_count": 8,
     "metadata": {},
     "output_type": "execute_result"
    }
   ],
   "source": [
    "c_df['Time'].str.len().value_counts()"
   ]
  },
  {
   "cell_type": "markdown",
   "metadata": {},
   "source": [
    "### Fix columns order"
   ]
  },
  {
   "cell_type": "code",
   "execution_count": 9,
   "metadata": {},
   "outputs": [
    {
     "data": {
      "text/plain": [
       "Index(['Date', 'Time', 'Location', 'Operator', 'Flight #', 'Route', 'AC  Type',\n",
       "       'Registration', 'cn / ln', 'Ground', 'Summary', 'Total Aboard',\n",
       "       'Passengers Aboard', 'Crew Aboard', 'Total Fatalities',\n",
       "       'Passengers Fatalities', 'Crew Fatalities'],\n",
       "      dtype='object')"
      ]
     },
     "execution_count": 9,
     "metadata": {},
     "output_type": "execute_result"
    }
   ],
   "source": [
    "# list of columns\n",
    "c_df.columns"
   ]
  },
  {
   "cell_type": "code",
   "execution_count": 10,
   "metadata": {},
   "outputs": [
    {
     "data": {
      "text/html": [
       "<div>\n",
       "<style scoped>\n",
       "    .dataframe tbody tr th:only-of-type {\n",
       "        vertical-align: middle;\n",
       "    }\n",
       "\n",
       "    .dataframe tbody tr th {\n",
       "        vertical-align: top;\n",
       "    }\n",
       "\n",
       "    .dataframe thead th {\n",
       "        text-align: right;\n",
       "    }\n",
       "</style>\n",
       "<table border=\"1\" class=\"dataframe\">\n",
       "  <thead>\n",
       "    <tr style=\"text-align: right;\">\n",
       "      <th></th>\n",
       "      <th>Date</th>\n",
       "      <th>Time</th>\n",
       "      <th>Location</th>\n",
       "      <th>Operator</th>\n",
       "      <th>Flight #</th>\n",
       "      <th>Route</th>\n",
       "      <th>AC  Type</th>\n",
       "      <th>Registration</th>\n",
       "      <th>cn / ln</th>\n",
       "      <th>Total Aboard</th>\n",
       "      <th>Passengers Aboard</th>\n",
       "      <th>Crew Aboard</th>\n",
       "      <th>Total Fatalities</th>\n",
       "      <th>Passengers Fatalities</th>\n",
       "      <th>Crew Fatalities</th>\n",
       "      <th>Ground</th>\n",
       "      <th>Summary</th>\n",
       "    </tr>\n",
       "  </thead>\n",
       "  <tbody>\n",
       "    <tr>\n",
       "      <th>0</th>\n",
       "      <td>September 17, 1908</td>\n",
       "      <td>17:18</td>\n",
       "      <td>Fort Myer, Virginia</td>\n",
       "      <td>Military - U.S. Army</td>\n",
       "      <td>NaN</td>\n",
       "      <td>Demonstration</td>\n",
       "      <td>Wright Flyer III</td>\n",
       "      <td>NaN</td>\n",
       "      <td>1</td>\n",
       "      <td>2</td>\n",
       "      <td>1</td>\n",
       "      <td>1</td>\n",
       "      <td>1</td>\n",
       "      <td>1</td>\n",
       "      <td>0</td>\n",
       "      <td>0</td>\n",
       "      <td>During a demonstration flight, a U.S. Army fly...</td>\n",
       "    </tr>\n",
       "    <tr>\n",
       "      <th>1</th>\n",
       "      <td>September 07, 1909</td>\n",
       "      <td>NaN</td>\n",
       "      <td>Juvisy-sur-Orge, France</td>\n",
       "      <td>NaN</td>\n",
       "      <td>NaN</td>\n",
       "      <td>Air show</td>\n",
       "      <td>Wright Byplane</td>\n",
       "      <td>SC1</td>\n",
       "      <td>NaN</td>\n",
       "      <td>1</td>\n",
       "      <td>0</td>\n",
       "      <td>1</td>\n",
       "      <td>1</td>\n",
       "      <td>0</td>\n",
       "      <td>0</td>\n",
       "      <td>0</td>\n",
       "      <td>Eugene Lefebvre was the first pilot to ever be...</td>\n",
       "    </tr>\n",
       "    <tr>\n",
       "      <th>2</th>\n",
       "      <td>July 12, 1912</td>\n",
       "      <td>06:30</td>\n",
       "      <td>Atlantic City, New Jersey</td>\n",
       "      <td>Military - U.S. Navy</td>\n",
       "      <td>NaN</td>\n",
       "      <td>Test flight</td>\n",
       "      <td>Dirigible</td>\n",
       "      <td>NaN</td>\n",
       "      <td>NaN</td>\n",
       "      <td>5</td>\n",
       "      <td>0</td>\n",
       "      <td>5</td>\n",
       "      <td>5</td>\n",
       "      <td>0</td>\n",
       "      <td>5</td>\n",
       "      <td>0</td>\n",
       "      <td>First U.S. dirigible Akron exploded just offsh...</td>\n",
       "    </tr>\n",
       "    <tr>\n",
       "      <th>3</th>\n",
       "      <td>August 06, 1913</td>\n",
       "      <td>NaN</td>\n",
       "      <td>Victoria, British Columbia, Canada</td>\n",
       "      <td>Private</td>\n",
       "      <td>NaN</td>\n",
       "      <td>NaN</td>\n",
       "      <td>Curtiss seaplane</td>\n",
       "      <td>NaN</td>\n",
       "      <td>NaN</td>\n",
       "      <td>1</td>\n",
       "      <td>0</td>\n",
       "      <td>1</td>\n",
       "      <td>1</td>\n",
       "      <td>0</td>\n",
       "      <td>1</td>\n",
       "      <td>0</td>\n",
       "      <td>The first fatal airplane accident in Canada oc...</td>\n",
       "    </tr>\n",
       "    <tr>\n",
       "      <th>4</th>\n",
       "      <td>September 09, 1913</td>\n",
       "      <td>18:30</td>\n",
       "      <td>Over the North Sea</td>\n",
       "      <td>Military - German Navy</td>\n",
       "      <td>NaN</td>\n",
       "      <td>NaN</td>\n",
       "      <td>Zeppelin L-1 (airship)</td>\n",
       "      <td>NaN</td>\n",
       "      <td>NaN</td>\n",
       "      <td>20</td>\n",
       "      <td>NaN</td>\n",
       "      <td>NaN</td>\n",
       "      <td>14</td>\n",
       "      <td>NaN</td>\n",
       "      <td>NaN</td>\n",
       "      <td>0</td>\n",
       "      <td>The airship flew into a thunderstorm and encou...</td>\n",
       "    </tr>\n",
       "  </tbody>\n",
       "</table>\n",
       "</div>"
      ],
      "text/plain": [
       "                 Date   Time                            Location  \\\n",
       "0  September 17, 1908  17:18                 Fort Myer, Virginia   \n",
       "1  September 07, 1909    NaN             Juvisy-sur-Orge, France   \n",
       "2       July 12, 1912  06:30           Atlantic City, New Jersey   \n",
       "3     August 06, 1913    NaN  Victoria, British Columbia, Canada   \n",
       "4  September 09, 1913  18:30                  Over the North Sea   \n",
       "\n",
       "                 Operator Flight #          Route                AC  Type  \\\n",
       "0    Military - U.S. Army      NaN  Demonstration        Wright Flyer III   \n",
       "1                     NaN      NaN       Air show          Wright Byplane   \n",
       "2    Military - U.S. Navy      NaN    Test flight               Dirigible   \n",
       "3                 Private      NaN            NaN        Curtiss seaplane   \n",
       "4  Military - German Navy      NaN            NaN  Zeppelin L-1 (airship)   \n",
       "\n",
       "  Registration cn / ln Total Aboard Passengers Aboard Crew Aboard  \\\n",
       "0          NaN       1            2                 1           1   \n",
       "1          SC1     NaN            1                 0           1   \n",
       "2          NaN     NaN            5                 0           5   \n",
       "3          NaN     NaN            1                 0           1   \n",
       "4          NaN     NaN           20               NaN         NaN   \n",
       "\n",
       "  Total Fatalities Passengers Fatalities Crew Fatalities Ground  \\\n",
       "0                1                     1               0      0   \n",
       "1                1                     0               0      0   \n",
       "2                5                     0               5      0   \n",
       "3                1                     0               1      0   \n",
       "4               14                   NaN             NaN      0   \n",
       "\n",
       "                                             Summary  \n",
       "0  During a demonstration flight, a U.S. Army fly...  \n",
       "1  Eugene Lefebvre was the first pilot to ever be...  \n",
       "2  First U.S. dirigible Akron exploded just offsh...  \n",
       "3  The first fatal airplane accident in Canada oc...  \n",
       "4  The airship flew into a thunderstorm and encou...  "
      ]
     },
     "execution_count": 10,
     "metadata": {},
     "output_type": "execute_result"
    }
   ],
   "source": [
    "# reorder columns\n",
    "c_df = c_df[['Date', 'Time', 'Location', 'Operator', 'Flight #', \n",
    "             'Route', 'AC  Type', 'Registration', 'cn / ln', \n",
    "             'Total Aboard', 'Passengers Aboard', 'Crew Aboard', \n",
    "             'Total Fatalities', 'Passengers Fatalities', 'Crew Fatalities', \n",
    "             'Ground', 'Summary']]\n",
    "\n",
    "c_df.head()"
   ]
  },
  {
   "cell_type": "markdown",
   "metadata": {},
   "source": [
    "# Save data"
   ]
  },
  {
   "cell_type": "code",
   "execution_count": 11,
   "metadata": {},
   "outputs": [],
   "source": [
    "# save data in a csv file\n",
    "c_df.to_csv('crashes.csv', index=False)"
   ]
  },
  {
   "cell_type": "code",
   "execution_count": null,
   "metadata": {},
   "outputs": [],
   "source": []
  }
 ],
 "metadata": {
  "kernelspec": {
   "display_name": "Python 3",
   "language": "python",
   "name": "python3"
  },
  "language_info": {
   "codemirror_mode": {
    "name": "ipython",
    "version": 3
   },
   "file_extension": ".py",
   "mimetype": "text/x-python",
   "name": "python",
   "nbconvert_exporter": "python",
   "pygments_lexer": "ipython3",
   "version": "3.7.6"
  }
 },
 "nbformat": 4,
 "nbformat_minor": 4
}
