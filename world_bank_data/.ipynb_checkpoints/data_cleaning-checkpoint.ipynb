{
 "cells": [
  {
   "cell_type": "code",
   "execution_count": 106,
   "metadata": {},
   "outputs": [],
   "source": [
    "# numerical processing\n",
    "import numpy as np\n",
    "# storing and analysing data\n",
    "import pandas as pd"
   ]
  },
  {
   "cell_type": "code",
   "execution_count": 107,
   "metadata": {},
   "outputs": [],
   "source": [
    "# list of rows to drop\n",
    "drop_countries = ['World', 'High income', 'OECD members',\n",
    "       'Post-demographic dividend', 'North America', \n",
    "       'IDA & IBRD total', 'Low & middle income', 'Middle income',\n",
    "       'IBRD only', 'East Asia & Pacific', 'Europe & Central Asia',\n",
    "       'Upper middle income', 'Late-demographic dividend',\n",
    "       'European Union', 'Euro area', 'Early-demographic dividend',\n",
    "       'East Asia & Pacific (excluding high income)',\n",
    "       'East Asia & Pacific (IDA & IBRD countries)', \n",
    "       'Lower middle income', 'Latin America & Caribbean',\n",
    "       'Latin America & the Caribbean (IDA & IBRD countries)',\n",
    "       'Latin America & Caribbean (excluding high income)', \n",
    "       'Middle East & North Africa', 'Arab World',\n",
    "       'Europe & Central Asia (IDA & IBRD countries)',\n",
    "       'Europe & Central Asia (excluding high income)', \n",
    "       'South Asia', 'South Asia (IDA & IBRD)', 'Sub-Saharan Africa (excluding high income)',\n",
    "       'Middle East & North Africa (IDA & IBRD countries)',\n",
    "       'Central Europe and the Baltics', 'Small states',\n",
    "       'IDA blend', 'IDA only',\n",
    "       'Middle East & North Africa (excluding high income)', 'IDA total',\n",
    "       'Sub-Saharan Africa', 'Sub-Saharan Africa (IDA & IBRD countries)',\n",
    "       'Least developed countries: UN classification', \n",
    "       'Pre-demographic dividend',\n",
    "       'Heavily indebted poor countries (HIPC)', \n",
    "       'Fragile and conflict affected situations', \n",
    "       'Other small states', 'Low income']"
   ]
  },
  {
   "cell_type": "code",
   "execution_count": 2,
   "metadata": {},
   "outputs": [
    {
     "name": "stdout",
     "output_type": "stream",
     "text": [
      "['1970', '1971', '1972', '1973', '1974']\n",
      "['2013', '2014', '2015', '2016', '2017']\n",
      "48\n"
     ]
    }
   ],
   "source": [
    "# get years\n",
    "years = [str(i) for i in range(1970, 2018)]\n",
    "# first few values\n",
    "print(years[:5])\n",
    "# last few values\n",
    "print(years[-5:])\n",
    "# length of years\n",
    "print(len(years))"
   ]
  },
  {
   "cell_type": "code",
   "execution_count": 109,
   "metadata": {},
   "outputs": [],
   "source": [
    "# clean data\n",
    "def clean_data(file_name, save_as):\n",
    "    '''Get a csv file, preprocess it, clean it and save it as another csv file\n",
    "    '''\n",
    "    # read csv file\n",
    "    df = pd.read_csv(file_name)\n",
    "    # drop rows \n",
    "    df = df[~df['Country Name'].isin(drop_countries)]\n",
    "    # convert it to a longer format\n",
    "    df = df.melt(id_vars = ['Country Name'], value_vars=years, \n",
    "                 var_name='Year', value_name='Count')\n",
    "    # drop rows with na\n",
    "    df = df.dropna()\n",
    "    # reset index\n",
    "    df = df.reset_index(drop=True)\n",
    "    # convert to int format\n",
    "    df['Count'] = df['Count'].astype('int')\n",
    "    # save it a csv file\n",
    "    df.to_csv(save_as, index=False)"
   ]
  },
  {
   "cell_type": "code",
   "execution_count": 110,
   "metadata": {},
   "outputs": [
    {
     "name": "stdout",
     "output_type": "stream",
     "text": [
      "187\n",
      "187\n"
     ]
    }
   ],
   "source": [
    "clean_data('passengers_count_clean.csv', 'passengers_count_long.csv')\n",
    "clean_data('departures_count_clean.csv', 'departures_count_long.csv')\n",
    "# clean_data('departures_count_clean.csv', 'departures_count_long.csv')"
   ]
  },
  {
   "cell_type": "code",
   "execution_count": null,
   "metadata": {},
   "outputs": [],
   "source": []
  },
  {
   "cell_type": "code",
   "execution_count": null,
   "metadata": {},
   "outputs": [],
   "source": []
  }
 ],
 "metadata": {
  "kernelspec": {
   "display_name": "Python 3",
   "language": "python",
   "name": "python3"
  },
  "language_info": {
   "codemirror_mode": {
    "name": "ipython",
    "version": 3
   },
   "file_extension": ".py",
   "mimetype": "text/x-python",
   "name": "python",
   "nbconvert_exporter": "python",
   "pygments_lexer": "ipython3",
   "version": "3.7.6"
  }
 },
 "nbformat": 4,
 "nbformat_minor": 4
}
